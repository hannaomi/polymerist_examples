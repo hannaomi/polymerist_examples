{
 "cells": [
  {
   "cell_type": "markdown",
   "metadata": {},
   "source": [
    "# Basic outline of polymer loading with OpenFF and our tools"
   ]
  },
  {
   "cell_type": "markdown",
   "metadata": {},
   "source": [
    "## Basic imports"
   ]
  },
  {
   "cell_type": "code",
   "execution_count": 1,
   "metadata": {},
   "outputs": [
    {
     "data": {
      "application/vnd.jupyter.widget-view+json": {
       "model_id": "b35b0bc92f4b400fb5da08abae152b94",
       "version_major": 2,
       "version_minor": 0
      },
      "text/plain": []
     },
     "metadata": {},
     "output_type": "display_data"
    }
   ],
   "source": [
    "# Supressing annoying warnings (!must be done first!)\n",
    "import warnings\n",
    "warnings.catch_warnings(record=True)\n",
    "warnings.filterwarnings('ignore', category=UserWarning)\n",
    "warnings.filterwarnings('ignore', category=DeprecationWarning)\n",
    "\n",
    "# Logging\n",
    "from polymerist.genutils.logutils.IOHandlers import LOG_FORMATTER\n",
    "\n",
    "import logging\n",
    "logging.basicConfig(\n",
    "    level=logging.INFO,\n",
    "    format =LOG_FORMATTER._fmt,\n",
    "    datefmt=LOG_FORMATTER.datefmt,\n",
    "    force=True\n",
    ")\n",
    "LOGGER = logging.getLogger(__name__)"
   ]
  },
  {
   "cell_type": "markdown",
   "metadata": {},
   "source": [
    "## Defining paths to PDB and monomer template files"
   ]
  },
  {
   "cell_type": "code",
   "execution_count": 2,
   "metadata": {},
   "outputs": [],
   "source": [
    "from pathlib import Path\n",
    "from polymerist.genutils.fileutils.pathutils import assemble_path\n",
    "\n",
    "mol_name = 'polyvinylchloride' # this should be swapped out for the target molecule (provided files exist)\n",
    "mol_class = 'simple_polymers'\n",
    "\n",
    "src_dir  = Path('cleaned_structures')\n",
    "pdb_dir  = src_dir / 'pdbs'  / mol_class\n",
    "mono_dir = src_dir / 'monos' / mol_class\n",
    "\n",
    "pdb_path  = assemble_path(pdb_dir , mol_name, extension='pdb')\n",
    "mono_path = assemble_path(mono_dir, mol_name, extension='json')\n",
    "\n",
    "for path in (pdb_path, mono_path):\n",
    "    assert(path.exists()) # make sure "
   ]
  },
  {
   "cell_type": "markdown",
   "metadata": {},
   "source": [
    "## Create Monomer Group"
   ]
  },
  {
   "cell_type": "code",
   "execution_count": 3,
   "metadata": {},
   "outputs": [
    {
     "name": "stdout",
     "output_type": "stream",
     "text": [
      "polyvinylchloride\n"
     ]
    },
    {
     "data": {
      "image/png": "[encoded data removed]",
      "text/plain": [
       "<rdkit.Chem.rdchem.Mol at 0x7ff434741770>"
      ]
     },
     "metadata": {},
     "output_type": "display_data"
    },
    {
     "name": "stdout",
     "output_type": "stream",
     "text": [
      "polyvinylchloride_TERM2\n"
     ]
    },
    {
     "data": {
      "image/png": "[encoded data removed]",
      "text/plain": [
       "<rdkit.Chem.rdchem.Mol at 0x7ff434741cb0>"
      ]
     },
     "metadata": {},
     "output_type": "display_data"
    },
    {
     "name": "stdout",
     "output_type": "stream",
     "text": [
      "polyvinylchloride_TERM4\n"
     ]
    },
    {
     "data": {
      "image/png": "[encoded data removed]",
      "text/plain": [
       "<rdkit.Chem.rdchem.Mol at 0x7ff434741a10>"
      ]
     },
     "metadata": {},
     "output_type": "display_data"
    }
   ],
   "source": [
    "from polymerist.monomers import MonomerGroup\n",
    "\n",
    "grp = MonomerGroup.from_file(mono_path)\n",
    "for resname, mol in grp.iter_rdmols():\n",
    "    print(resname)\n",
    "    display(mol)"
   ]
  },
  {
   "cell_type": "markdown",
   "metadata": {},
   "source": [
    "## Load topology with substructures, generate partition"
   ]
  },
  {
   "cell_type": "code",
   "execution_count": 5,
   "metadata": {},
   "outputs": [
    {
     "data": {
      "application/vnd.jupyter.widget-view+json": {
       "model_id": "3182889dd5c64f8f9fac4ec2d30d5b69",
       "version_major": 2,
       "version_minor": 0
      },
      "text/plain": [
       "NGLWidget()"
      ]
     },
     "metadata": {},
     "output_type": "display_data"
    }
   ],
   "source": [
    "from openff.toolkit import Topology, Molecule\n",
    "from polymerist.openfftools import topology\n",
    "from polymerist.openfftools.partition import partition\n",
    "\n",
    "offtop = Topology.from_pdb(pdb_path, _custom_substructures=grp.monomers)\n",
    "was_partitioned = partition(offtop)\n",
    "assert(was_partitioned)\n",
    "\n",
    "offmol = topology.get_largest_offmol(offtop)\n",
    "display(offmol)"
   ]
  },
  {
   "cell_type": "markdown",
   "metadata": {},
   "source": [
    "### Relabel partitioned molecule residues (necessary for GROMACS output)"
   ]
  },
  {
   "cell_type": "code",
   "execution_count": 6,
   "metadata": {},
   "outputs": [],
   "source": [
    "unique_res_nums = sorted(set(atom.metadata['residue_number'] for atom in offmol.atoms))\n",
    "res_num_remap = {\n",
    "    res_num : i + 1 # new number must be non-zero\n",
    "        for (i, res_num) in enumerate(unique_res_nums)\n",
    "}\n",
    "\n",
    "for atom in offmol.atoms:\n",
    "    old_res_num = atom.metadata.pop('residue_number')\n",
    "    atom.metadata['residue_number'] = res_num_remap[old_res_num]"
   ]
  },
  {
   "cell_type": "markdown",
   "metadata": {},
   "source": [
    "### TODO : include RCT partial charging protocol (toolkit assignment is fine for now for small molecules)"
   ]
  },
  {
   "cell_type": "markdown",
   "metadata": {},
   "source": [
    "## Load force field and create Interchange for format interconversion"
   ]
  },
  {
   "cell_type": "code",
   "execution_count": 7,
   "metadata": {},
   "outputs": [
    {
     "name": "stderr",
     "output_type": "stream",
     "text": [
      "2024-03-14 17:38:01.639 [INFO    :      parameters:line 2817] - Attempting to up-convert vdW section from 0.3 to 0.4\n",
      "2024-03-14 17:38:01.640 [INFO    :      parameters:line 2826] - Successfully up-converted vdW section from 0.3 to 0.4. `method=\"cutoff\"` is now split into `periodic_method=\"cutoff\"` and `nonperiodic_method=\"no-cutoff\"`.\n",
      "2024-03-14 17:38:01.656 [INFO    :      parameters:line 3017] - Attempting to up-convert Electrostatics section from 0.3 to 0.4\n",
      "2024-03-14 17:38:01.656 [INFO    :      parameters:line 3027] - Successfully up-converted Electrostatics section from 0.3 to 0.4. `method=\"PME\"` is now split into `periodic_potential=\"Ewald3D-ConductingBoundary\"`, `nonperiodic_potential=\"Coulomb\"`, and `exception_potential=\"Coulomb\"`.\n",
      "Warning: Cannot perform Hydrogen sampling with GPU-Omega: GPU-Omega disabled.\n"
     ]
    }
   ],
   "source": [
    "from openff.toolkit import ForceField\n",
    "from openff.interchange import Interchange\n",
    "from polymerist.openfftools import FFDIR\n",
    "\n",
    "\n",
    "groname = 'gromacs_demo'\n",
    "grodir = Path('GROMACS_demo')\n",
    "grodir.mkdir(exist_ok='true')\n",
    "\n",
    "ff = ForceField(str(FFDIR / 'openff-2.0.0.offxml'))\n",
    "inc = Interchange.from_smirnoff(force_field=ff, topology=offmol.to_topology())\n",
    "inc.to_gromacs(prefix=str(grodir / groname))"
   ]
  },
  {
   "cell_type": "code",
   "execution_count": null,
   "metadata": {},
   "outputs": [],
   "source": []
  }
 ],
 "metadata": {
  "kernelspec": {
   "display_name": "openff-pdb-pr",
   "language": "python",
   "name": "python3"
  },
  "language_info": {
   "codemirror_mode": {
    "name": "ipython",
    "version": 3
   },
   "file_extension": ".py",
   "mimetype": "text/x-python",
   "name": "python",
   "nbconvert_exporter": "python",
   "pygments_lexer": "ipython3",
   "version": "3.11.0"
  }
 },
 "nbformat": 4,
 "nbformat_minor": 2
}
